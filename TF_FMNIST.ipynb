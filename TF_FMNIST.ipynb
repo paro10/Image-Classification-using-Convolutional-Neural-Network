{
 "cells": [
  {
   "cell_type": "code",
   "execution_count": 2,
   "metadata": {},
   "outputs": [
    {
     "name": "stdout",
     "output_type": "stream",
     "text": [
      "Populating the interactive namespace from numpy and matplotlib\n"
     ]
    }
   ],
   "source": [
    "%pylab inline\n",
    "import os\n",
    "import numpy as np\n",
    "import pandas as pd\n",
    "from scipy.misc import imread\n",
    "from sklearn.metrics import accuracy_score\n",
    "import tensorflow as tf\n",
    "from sklearn.preprocessing import OneHotEncoder\n",
    "from sklearn.model_selection import train_test_split"
   ]
  },
  {
   "cell_type": "code",
   "execution_count": 3,
   "metadata": {},
   "outputs": [
    {
     "name": "stdout",
     "output_type": "stream",
     "text": [
      "/Users/Paromita.Banerjee/Downloads/fashionmnist\n"
     ]
    }
   ],
   "source": [
    "root_dir = os.path.abspath('../..')\n",
    "data_dir = os.path.join(root_dir, 'Paromita.Banerjee/Downloads/fashionmnist')\n",
    "#sub_dir = os.path.join(root_dir, 'sub')\n",
    "os.path.exists(root_dir)\n",
    "os.path.exists(data_dir)\n",
    "print(data_dir)"
   ]
  },
  {
   "cell_type": "code",
   "execution_count": 4,
   "metadata": {},
   "outputs": [
    {
     "name": "stdout",
     "output_type": "stream",
     "text": [
      "   label  pixel1  pixel2  pixel3  pixel4  pixel5  pixel6  pixel7  pixel8  \\\n",
      "0      2       0       0       0       0       0       0       0       0   \n",
      "1      9       0       0       0       0       0       0       0       0   \n",
      "2      6       0       0       0       0       0       0       0       5   \n",
      "3      0       0       0       0       1       2       0       0       0   \n",
      "4      3       0       0       0       0       0       0       0       0   \n",
      "\n",
      "   pixel9    ...     pixel775  pixel776  pixel777  pixel778  pixel779  \\\n",
      "0       0    ...            0         0         0         0         0   \n",
      "1       0    ...            0         0         0         0         0   \n",
      "2       0    ...            0         0         0        30        43   \n",
      "3       0    ...            3         0         0         0         0   \n",
      "4       0    ...            0         0         0         0         0   \n",
      "\n",
      "   pixel780  pixel781  pixel782  pixel783  pixel784  \n",
      "0         0         0         0         0         0  \n",
      "1         0         0         0         0         0  \n",
      "2         0         0         0         0         0  \n",
      "3         1         0         0         0         0  \n",
      "4         0         0         0         0         0  \n",
      "\n",
      "[5 rows x 785 columns]\n"
     ]
    }
   ],
   "source": [
    "train = pd.read_csv(os.path.join(data_dir, 'fashion-mnist_train.csv'))\n",
    "test = pd.read_csv(os.path.join(data_dir, 'fashion-mnist_test.csv'))\n",
    "print(train.head(5))"
   ]
  },
  {
   "cell_type": "code",
   "execution_count": 5,
   "metadata": {},
   "outputs": [
    {
     "name": "stdout",
     "output_type": "stream",
     "text": [
      "((48000, 784), (48000,))\n"
     ]
    }
   ],
   "source": [
    "x_train, x_valid, y_train, y_valid = train_test_split(train.drop(\"label\",axis=1),train.label, test_size = 0.20, random_state = 200)\n",
    "\n",
    "x_train = np.array((x_train*1.0)/255.0,dtype=np.float32)\n",
    "x_valid = np.array((x_valid*1.0)/255.0,dtype=np.float32)\n",
    "print(x_train.shape, y_train.shape)"
   ]
  },
  {
   "cell_type": "code",
   "execution_count": 6,
   "metadata": {},
   "outputs": [
    {
     "name": "stderr",
     "output_type": "stream",
     "text": [
      "/Users/paromita.banerjee/anaconda2/lib/python2.7/site-packages/ipykernel_launcher.py:1: FutureWarning: reshape is deprecated and will raise in a subsequent release. Please use .values.reshape(...) instead\n",
      "  \"\"\"Entry point for launching an IPython kernel.\n",
      "/Users/paromita.banerjee/anaconda2/lib/python2.7/site-packages/ipykernel_launcher.py:2: FutureWarning: reshape is deprecated and will raise in a subsequent release. Please use .values.reshape(...) instead\n",
      "  \n"
     ]
    }
   ],
   "source": [
    "y_train = OneHotEncoder(sparse = False).fit_transform(y_train.reshape(-1,1)).astype(np.uint8)\n",
    "y_valid = OneHotEncoder(sparse = False).fit_transform(y_valid.reshape(-1,1)).astype(np.uint8)"
   ]
  },
  {
   "cell_type": "code",
   "execution_count": 7,
   "metadata": {
    "collapsed": true
   },
   "outputs": [],
   "source": [
    "test_label = test.label.values\n",
    "y_test = OneHotEncoder(sparse = False).fit_transform(test_label.reshape(-1,1)).astype(np.uint8)\n",
    "x_test = np.array((test.drop(\"label\",axis=1)*1.0)/255.0,dtype=np.float32)"
   ]
  },
  {
   "cell_type": "code",
   "execution_count": 8,
   "metadata": {
    "collapsed": true
   },
   "outputs": [],
   "source": [
    "epochs_completed = 0\n",
    "index_in_epoch = 0\n",
    "num_examples = x_train.shape[0]\n",
    "\n",
    "# serve data by batches\n",
    "def batch_creator(batch_size):\n",
    "    \n",
    "    global x_train\n",
    "    global y_train\n",
    "    global index_in_epoch\n",
    "    global epochs_completed\n",
    "    \n",
    "    start = index_in_epoch\n",
    "    index_in_epoch += batch_size\n",
    "       \n",
    "    if index_in_epoch > num_examples:\n",
    "        # finished epoch\n",
    "        epochs_completed += 1\n",
    "        perm = np.arange(num_examples)\n",
    "        np.random.shuffle(perm)\n",
    "        x_train = x_train[perm]\n",
    "        y_train = y_train[perm]\n",
    "        # start next epoch\n",
    "        start = 0\n",
    "        index_in_epoch = batch_size\n",
    "        assert batch_size <= num_examples\n",
    "    end = index_in_epoch\n",
    "    return x_train[start:end], y_train[start:end]\n"
   ]
  },
  {
   "cell_type": "code",
   "execution_count": 10,
   "metadata": {},
   "outputs": [
    {
     "name": "stdout",
     "output_type": "stream",
     "text": [
      "(TensorShape([Dimension(None), Dimension(784)]), TensorShape([Dimension(None), Dimension(10)]))\n"
     ]
    }
   ],
   "source": [
    "X = tf.placeholder(tf.float32,[None,784])\n",
    "y_true = tf.placeholder(tf.float32,[None,10])\n",
    "\n",
    "Feature1 = 12 \n",
    "Feature2 = 24\n",
    "Feature3 = 48\n",
    "Final = 200\n",
    "\n",
    "W1 = tf.Variable(tf.truncated_normal([5,5,1,Feature1], stddev=0.1))\n",
    "b1 = tf.Variable(tf.ones([Feature1])/10)\n",
    "W2 = tf.Variable(tf.truncated_normal([5,5,Feature1,Feature2], stddev=0.1))\n",
    "b2 = tf.Variable(tf.ones([Feature2])/10)\n",
    "W3 = tf.Variable(tf.truncated_normal([4,4,Feature2,Feature3], stddev=0.1))\n",
    "b3 = tf.Variable(tf.ones([Feature3])/10)\n",
    "\n",
    "W4 = tf.Variable(tf.truncated_normal([7 * 7 * Feature3, Final], stddev=0.1))\n",
    "b4 = tf.Variable(tf.ones([Final])/10)\n",
    "W5 = tf.Variable(tf.truncated_normal([Final, 10], stddev=0.1))\n",
    "b5 = tf.Variable(tf.ones([10])/10)\n",
    "\n",
    "# Hidden layers\n",
    "X1 = tf.reshape(X,shape = [-1,28,28,1])\n",
    "stride = 1  \n",
    "Y1 = tf.nn.relu(tf.nn.conv2d(X1, W1, strides=[1, stride, stride, 1], padding='SAME') + b1)\n",
    "stride = 2 \n",
    "Y2 = tf.nn.relu(tf.nn.conv2d(Y1, W2, strides=[1, stride, stride, 1], padding='SAME') + b2)\n",
    "stride = 2  \n",
    "Y3 = tf.nn.relu(tf.nn.conv2d(Y2, W3, strides=[1, stride, stride, 1], padding='SAME') + b3)\n",
    "\n",
    "YY = tf.reshape(Y3, shape=[-1, 7 * 7 * Feature3])\n",
    "\n",
    "Model = tf.nn.relu(tf.matmul(YY, W4) + b4)\n",
    "\n",
    "keep_prob = tf.placeholder('float')\n",
    "F_drop_out = tf.nn.dropout(Model, keep_prob)\n",
    "\n",
    "Ylogits = tf.matmul(F_drop_out, W5) + b5\n",
    "y_pred = tf.nn.softmax(Ylogits)\n",
    "\n",
    "cross_entropy = tf.nn.softmax_cross_entropy_with_logits(logits= Ylogits, labels = y_true)\n",
    "cost = tf.reduce_mean(cross_entropy)\n",
    "\n",
    "global_step = tf.Variable(0, trainable=False)\n",
    "learning_rate = 0.001\n",
    "\n",
    "train_step = tf.train.AdamOptimizer(learning_rate).minimize(cost)\n",
    "\n",
    "correct_prediction = tf.equal(tf.argmax(y_pred,1),tf.argmax(y_true,1))\n",
    "accuracy = tf.reduce_mean(tf.cast(correct_prediction,tf.float32))\n",
    "\n"
   ]
  },
  {
   "cell_type": "code",
   "execution_count": 118,
   "metadata": {
    "scrolled": false
   },
   "outputs": [
    {
     "name": "stdout",
     "output_type": "stream",
     "text": [
      "Training step\n",
      "('Step:', 0, 'Accuracy:', 0.11)\n",
      "('Step:', 100, 'Accuracy:', 0.76999998)\n",
      "('Step:', 200, 'Accuracy:', 0.81)\n",
      "('Step:', 300, 'Accuracy:', 0.85000002)\n",
      "('Step:', 400, 'Accuracy:', 0.82999998)\n",
      "('Step:', 500, 'Accuracy:', 0.79000002)\n",
      "('Step:', 600, 'Accuracy:', 0.81)\n",
      "('Step:', 700, 'Accuracy:', 0.86000001)\n",
      "('Step:', 800, 'Accuracy:', 0.88)\n",
      "('Step:', 900, 'Accuracy:', 0.82999998)\n",
      "('Validation accuracy', 0.88775003)\n"
     ]
    }
   ],
   "source": [
    "init = tf.global_variables_initializer()\n",
    "sess = tf.InteractiveSession()\n",
    "sess.run(init)\n",
    "\n",
    "print(\"Training step\")\n",
    "for i in range(1000):\n",
    "    batch_x_tr, batch_y_tr = batch_creator(100)\n",
    "    _,a = sess.run([train_step,accuracy],feed_dict = {X: batch_x_tr, y_true: batch_y_tr,keep_prob: 0.65})\n",
    "    if i % 100 == 0:\n",
    "        print(\"Step:\",i, \"Accuracy:\",a)\n",
    "\n",
    "a_valid = sess.run(accuracy, feed_dict = {X: x_valid, y_true: y_valid,keep_prob: 1.0})\n",
    "print(\"Validation accuracy\", a_valid)"
   ]
  },
  {
   "cell_type": "code",
   "execution_count": 119,
   "metadata": {},
   "outputs": [
    {
     "name": "stdout",
     "output_type": "stream",
     "text": [
      "('Test accuracy', 0.89020002)\n"
     ]
    }
   ],
   "source": [
    "a_ts = sess.run(accuracy, feed_dict = {X: x_test, y_true: y_test,keep_prob: 1.0})\n",
    "print(\"Test accuracy\", a_ts)"
   ]
  },
  {
   "cell_type": "code",
   "execution_count": 123,
   "metadata": {},
   "outputs": [
    {
     "data": {
      "image/png": "[encoded data removed]",
      "text/plain": [
       "<matplotlib.figure.Figure at 0x1a5aa62190>"
      ]
     },
     "metadata": {},
     "output_type": "display_data"
    }
   ],
   "source": [
    "plt.imshow(np.reshape(x_test[15],(28,28)),cmap='gray_r')\n",
    "plt.show()"
   ]
  },
  {
   "cell_type": "code",
   "execution_count": null,
   "metadata": {
    "collapsed": true
   },
   "outputs": [],
   "source": []
  }
 ],
 "metadata": {
  "kernelspec": {
   "display_name": "Python 2",
   "language": "python",
   "name": "python2"
  },
  "language_info": {
   "codemirror_mode": {
    "name": "ipython",
    "version": 2
   },
   "file_extension": ".py",
   "mimetype": "text/x-python",
   "name": "python",
   "nbconvert_exporter": "python",
   "pygments_lexer": "ipython2",
   "version": "2.7.13"
  }
 },
 "nbformat": 4,
 "nbformat_minor": 2
}
